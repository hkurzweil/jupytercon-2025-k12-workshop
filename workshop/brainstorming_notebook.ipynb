{
  "nbformat": 4,
  "nbformat_minor": 0,
  "metadata": {
    "colab": {
      "provenance": [],
      "authorship_tag": "ABX9TyOGu0fEckDT17BeRvAedFT1",
      "include_colab_link": true
    },
    "kernelspec": {
      "name": "python3",
      "display_name": "Python 3"
    },
    "language_info": {
      "name": "python"
    }
  },
  "cells": [
    {
      "cell_type": "markdown",
      "metadata": {
        "id": "view-in-github",
        "colab_type": "text"
      },
      "source": [
        "<a href=\"https://colab.research.google.com/github/hkurzweil/jupytercon-2025-k12-workshop/blob/main/workshop/brainstorming_notebook.ipynb\" target=\"_parent\"><img src=\"https://colab.research.google.com/assets/colab-badge.svg\" alt=\"Open In Colab\"/></a>"
      ]
    },
    {
      "cell_type": "markdown",
      "source": [
        "# Jupyter for K-12: Brainstorming Workshop Notebook\n",
        "## JupyterCon 2025 - Let's Build the Next Million Users Together!\n",
        "\n",
        "---\n",
        "\n",
        "## 📋 How This Works\n",
        "\n",
        "**Welcome to the most meta brainstorming session ever - using Jupyter to improve Jupyter for education!**\n",
        "\n",
        "**Instructions:**\n",
        "1. **Choose a station** below (Student Experience, Pain Points, or Missing Features)\n",
        "2. **Copy the template markdown cell** in your chosen section\n",
        "3. **Fill in your idea** using the template format\n",
        "4. **Add it as a new markdown cell** below the template\n",
        "5. **Run your cell** to see it formatted nicely\n",
        "6. **Add ⭐ emojis** to ideas you want to vote for!\n",
        "\n",
        "**Tips:**\n",
        "- One idea per cell keeps things organized\n",
        "- Use markdown formatting to make your idea stand out\n",
        "- Add code cells if you want to show a mockup or concept!\n",
        "- Collaborate - read others' ideas and build on them\n",
        "\n",
        "**After 20 minutes of brainstorming:**\n",
        "- We'll run the voting aggregation code at the bottom\n",
        "- Discuss the top ideas as a group\n",
        "- Form working groups for ideas you want to pursue\n",
        "\n",
        "---"
      ],
      "metadata": {
        "id": "RnDmL3c_7v1I"
      }
    },
    {
      "cell_type": "markdown",
      "source": [
        "## 🎓 STATION 1: The Student Experience\n",
        "### Prompt: If you could relive high school with Jupyter, what would you want to do?\n",
        "\n",
        "**Think about:**\n",
        "- What features exist today that students don't know about?\n",
        "- What would have made YOU excited about data/science/math in high school?\n",
        "- How can we make \"doing homework\" actually engaging?\n",
        "- Real-time data, interactive viz, gamification, collaboration?\n",
        "\n",
        "---"
      ],
      "metadata": {
        "id": "dfaa9vLu70-K"
      }
    },
    {
      "cell_type": "markdown",
      "source": [
        "### 💡 Template - Copy This Cell to Add Your Idea\n",
        "```markdown\n",
        "### 💡 [Your Idea Title Here]\n",
        "\n",
        "**Problem:** What student pain point or missed opportunity does this solve?\n",
        "\n",
        "**Solution:** Describe what you'd build or enable\n",
        "\n",
        "**Example Use Case:** \"A 10th grader could...\"\n",
        "\n",
        "**Impact:** How many students would this help?\n",
        "\n",
        "**Difficulty:** 🚀 Quick Win (days/weeks) | 📅 Medium-term (1-3 months) | 💡 Game-changer (6+ months)\n",
        "\n",
        "**Submitted by:** [Your Name/GitHub]\n",
        "\n",
        "**Votes:** [Add ⭐ here if you like this idea!]\n",
        "\n",
        "**Want to work on this?** [Yes/No - add your contact if yes]\n",
        "```"
      ],
      "metadata": {
        "id": "9hnesyfs74gO"
      }
    },
    {
      "cell_type": "markdown",
      "source": [
        "### 💡 Example Idea: Live Sports Data Analysis\n",
        "\n",
        "**Problem:** Students think statistics is boring and irrelevant to their lives\n",
        "\n",
        "**Solution:** Pre-built notebooks that pull live sports data (NBA, FIFA, Olympics) via APIs and let students analyze it in real-time. \"Who's having a better season, Player X or Y?\" becomes a statistical exploration.\n",
        "\n",
        "**Example Use Case:** \"A 10th grader who loves basketball could compare their favorite player's stats across seasons, create visualizations, and present findings to class - all while learning distributions, correlations, and hypothesis testing.\"\n",
        "\n",
        "**Impact:** Millions of students who are sports fans but think they hate math\n",
        "\n",
        "**Difficulty:** 📅 Medium-term - need API wrappers, example notebooks, teacher guides\n",
        "\n",
        "**Submitted by:** Hannah @ DS4E\n",
        "\n",
        "**Votes:** ⭐⭐⭐ [Vote by adding stars!]\n",
        "\n",
        "**Want to work on this?** Yes - hannah@ds4e.org\n",
        "\n",
        "---"
      ],
      "metadata": {
        "id": "IFpoAf1B75Vz"
      }
    },
    {
      "cell_type": "markdown",
      "source": [
        "### ⬇️ ADD YOUR STATION 1 IDEAS BELOW THIS LINE ⬇️\n",
        "\n",
        "[Participants will add markdown cells here]\n",
        "\n",
        "---"
      ],
      "metadata": {
        "id": "AghbagIk7-mr"
      }
    },
    {
      "cell_type": "markdown",
      "source": [
        "## 👩‍🏫 STATION 2: Teacher Pain Points\n",
        "### Prompt: What's stopping adoption and how do we fix it?\n",
        "\n",
        "**Categories to consider:**\n",
        "- **Technical:** Installation, debugging, IT restrictions, device compatibility\n",
        "- **Knowledge:** Understanding code, customizing lessons, managing accounts\n",
        "- **Institutional:** Standards alignment, admin approval, privacy, LMS integration\n",
        "- **Practical:** Setup time, error messages, knowing what students should edit\n",
        "\n",
        "**Remember:** Teachers aren't lazy - they're overwhelmed. What can WE fix to remove friction?\n",
        "\n",
        "---"
      ],
      "metadata": {
        "id": "Y3LholdC8kuM"
      }
    },
    {
      "cell_type": "markdown",
      "source": [
        "### 🛠️ [Problem/Solution Title]\n",
        "\n",
        "**Pain Point:** What specific complaint/barrier are you addressing?\n",
        "\n",
        "**Why It's a Problem:** Who does this affect and how badly?\n",
        "\n",
        "**Proposed Solution:** What would you build/change/create?\n",
        "\n",
        "**Implementation Details:** Brief technical approach (if known)\n",
        "\n",
        "**Success Metric:** How would we know this worked?\n",
        "\n",
        "**Difficulty:** 🚀 Quick Win | 📅 Medium-term | 💡 Game-changer\n",
        "\n",
        "**Submitted by:** [Your Name]\n",
        "\n",
        "**Votes:** [Add ⭐]\n",
        "\n",
        "**Want to work on this?** [Yes/No + contact]"
      ],
      "metadata": {
        "id": "f6L0ulI58DfG"
      }
    },
    {
      "cell_type": "markdown",
      "source": [
        "### 🛠️ Example Solution: Student-Friendly Error Messages\n",
        "\n",
        "**Pain Point:** \"I can't debug student errors\" - teachers get cryptic Python tracebacks and don't know what they mean\n",
        "\n",
        "**Why It's a Problem:** Affects every teacher using Jupyter. When students get `SyntaxError: invalid syntax`, teachers freeze. This kills adoption faster than anything.\n",
        "\n",
        "**Proposed Solution:** A Jupyter extension that detects common student errors and translates them to plain English:\n",
        "- `SyntaxError: invalid syntax` → \"❌ You're missing a comma on line 5\"\n",
        "- `NameError: name 'plt' is not defined` → \"❌ You forgot to run the cell that imports matplotlib\"\n",
        "- `IndentationError` → \"❌ Your code isn't lined up correctly (check spaces)\"\n",
        "\n",
        "**Implementation Details:**\n",
        "- Parse error messages\n",
        "- Pattern match common mistakes\n",
        "- Display friendly message in notebook\n",
        "- Link to help docs\n",
        "- Could use AI/LLM to explain errors contextually\n",
        "\n",
        "**Success Metric:** Teachers report feeling confident troubleshooting errors; 50%+ reduction in \"I can't debug\" complaints\n",
        "\n",
        "**Difficulty:** 💡 Game-changer - Needs ML model or comprehensive error library, but HIGH IMPACT\n",
        "\n",
        "**Submitted by:** Hannah @ DS4E\n",
        "\n",
        "**Votes:** ⭐⭐⭐⭐⭐\n",
        "\n",
        "**Want to work on this?** YES! This would be transformative\n",
        "\n",
        "---"
      ],
      "metadata": {
        "id": "lf-ab9_98pwD"
      }
    },
    {
      "cell_type": "markdown",
      "source": [
        "### ⬇️ ADD YOUR STATION 2 IDEAS BELOW THIS LINE ⬇️\n",
        "\n",
        "[Participants will add markdown cells here]\n",
        "\n",
        "---"
      ],
      "metadata": {
        "id": "qwBlm8sR8sN4"
      }
    },
    {
      "cell_type": "markdown",
      "source": [
        "---\n",
        "\n",
        "*(Scroll down for Station 3)*\n",
        "\n",
        "---"
      ],
      "metadata": {
        "id": "5MRvYprx8tJR"
      }
    },
    {
      "cell_type": "markdown",
      "source": [
        "## 🔧 STATION 3: Missing Features\n",
        "### Prompt: What doesn't exist yet but should?\n",
        "\n",
        "**Think about:**\n",
        "- **UI/UX:** Simplified interfaces, visual indicators, better navigation\n",
        "- **Education-specific:** Standards tagging, assignment workflows, grading tools\n",
        "- **Infrastructure:** Easier deployment, offline capability, Chromebook optimization\n",
        "- **Collaboration:** Student commenting, peer review, version control\n",
        "\n",
        "**Dream big!** What would make Jupyter the OBVIOUS choice for every classroom?\n",
        "\n",
        "---"
      ],
      "metadata": {
        "id": "Ot4PpOVM8wzm"
      }
    },
    {
      "cell_type": "markdown",
      "source": [
        "### ✨ Template - Copy This Cell to Add Your Feature Idea\n",
        "```markdown\n",
        "### ✨ [Feature Name]\n",
        "\n",
        "**The Gap:** What can't teachers/students do today that they need?\n",
        "\n",
        "**Proposed Feature:** Describe what you'd build\n",
        "\n",
        "**User Story:** \"As a [teacher/student], I want to [action] so that [benefit]\"\n",
        "\n",
        "**Mockup/Example:** [Describe or sketch the UX]\n",
        "\n",
        "**Technical Approach:** How might this work? (high-level)\n",
        "\n",
        "**Dependencies:** What needs to exist first?\n",
        "\n",
        "**Difficulty:** 🚀 Quick Win | 📅 Medium-term | 💡 Game-changer\n",
        "\n",
        "**Submitted by:** [Your Name]\n",
        "\n",
        "**Votes:** [Add ⭐]\n",
        "\n",
        "**Want to work on this?** [Yes/No + contact]\n",
        "```"
      ],
      "metadata": {
        "id": "vYVzKqwy80AA"
      }
    },
    {
      "cell_type": "markdown",
      "source": [
        "### ✨ Example Feature: \"Student Mode\" Toggle\n",
        "\n",
        "**The Gap:** Students (and teachers!) get overwhelmed by all the buttons, menus, and options in Jupyter. They don't need 90% of the interface - they just need to read and run cells.\n",
        "\n",
        "**Proposed Feature:** A simple toggle in the toolbar: \"Student Mode ON/OFF\"\n",
        "\n",
        "When ON:\n",
        "- Hides advanced menus (Kernel, Widgets, etc.)\n",
        "- Shows only: Run cell, Add cell, Save\n",
        "- Grays out cells students shouldn't edit\n",
        "- Highlights cells students SHOULD edit in green\n",
        "- Bigger, clearer buttons\n",
        "- \"Reset Notebook\" button prominently displayed\n",
        "\n",
        "**User Story:** \"As a 9th grade student, I want a simpler interface so that I can focus on learning statistics instead of figuring out what all these buttons do\"\n",
        "\n",
        "**Mockup/Example:**\n",
        "```\n",
        "[Simplified toolbar]\n",
        "▶️ Run This Cell | ➕ Add Cell Below | 💾 Save | 🔄 Reset Everything\n",
        "```\n",
        "\n",
        "**Technical Approach:**\n",
        "- JupyterLab extension\n",
        "- CSS to hide elements\n",
        "- Custom toolbar\n",
        "- Metadata tags to mark \"editable\" vs \"read-only\" cells\n",
        "- Could be user preference or set by notebook creator\n",
        "\n",
        "**Dependencies:** JupyterLab 4.x extension API\n",
        "\n",
        "**Difficulty:** 📅 Medium-term - Extension development + UX design, but well-defined scope\n",
        "\n",
        "**Submitted by:** Hannah @ DS4E\n",
        "\n",
        "**Votes:** ⭐⭐⭐⭐\n",
        "\n",
        "**Want to work on this?** Yes - this is my #1 wish\n",
        "\n",
        "---"
      ],
      "metadata": {
        "id": "441z4lPq82Zj"
      }
    },
    {
      "cell_type": "markdown",
      "source": [
        "### ⬇️ ADD YOUR STATION 3 IDEAS BELOW THIS LINE ⬇️\n",
        "\n",
        "[Participants will add markdown cells here]\n",
        "\n",
        "---"
      ],
      "metadata": {
        "id": "kGd42mby85gh"
      }
    },
    {
      "cell_type": "markdown",
      "source": [
        "---\n",
        "\n",
        "## 🗳️ BRAINSTORMING COMPLETE!\n",
        "\n",
        "Scroll down to the voting and wrap-up sections below.\n",
        "\n",
        "---"
      ],
      "metadata": {
        "id": "8PH_3BzK87xv"
      }
    },
    {
      "cell_type": "markdown",
      "source": [
        "---\n",
        "\n",
        "# 📊 VOTING & AGGREGATION\n",
        "\n",
        "After brainstorming, we'll identify the top ideas here!\n",
        "\n",
        "---\n",
        "\n",
        "## 🎯 Quick Wins We Can Start TODAY\n",
        "\n",
        "**Top 3-5 quick win ideas:**\n",
        "\n",
        "1. [To be filled during workshop]\n",
        "\n",
        "2. [To be filled during workshop]\n",
        "\n",
        "3. [To be filled during workshop]\n",
        "\n",
        "---\n",
        "\n",
        "## 💡 Game-Changer Projects (Longer-term)\n",
        "\n",
        "**Big vision ideas that need more planning:**\n",
        "\n",
        "1. [To be filled during workshop]\n",
        "\n",
        "2. [To be filled during workshop]\n",
        "\n",
        "---\n",
        "\n",
        "## 🤝 Working Groups & Next Steps\n",
        "\n",
        "**Who's working on what?**\n",
        "\n",
        "### Project: [Name]\n",
        "**Lead:** [Name]\n",
        "**Team Members:** [Names + contact info]\n",
        "**Next Steps:** [What we'll do first]\n",
        "**GitHub/Forum:** [Link when created]\n",
        "\n",
        "---"
      ],
      "metadata": {
        "id": "qhGJA7WO8-x-"
      }
    },
    {
      "cell_type": "markdown",
      "source": [
        "## 🎉 Thank You!\n",
        "\n",
        "**You just helped shape the future of Jupyter in education!**\n",
        "\n",
        "**What happens next:**\n",
        "1. Hannah will compile all ideas and share back to the community\n",
        "2. Top ideas will be posted to Jupyter forums/GitHub\n",
        "3. We'll start working groups for high-priority projects\n",
        "4. Follow-up at next Jupyter community calls\n",
        "\n",
        "**Stay Connected:**\n",
        "- 📧 Email: [your email]\n",
        "- 🌐 Data Science 4 Everyone: [your website]\n",
        "- 💬 Join #jupyter-for-k12 channel (to be created!)\n",
        "\n",
        "**The next million Jupyter users are in classrooms right now.**\n",
        "**Thanks to you, we're one step closer to reaching them.**\n",
        "```\n",
        "\n",
        "---\n",
        "\n",
        "## STEP 2: Save to Your Google Drive (IMPORTANT!)\n",
        "\n",
        "This is the **key difference** from the demo notebook!\n",
        "\n",
        "**1. In Colab, click File → Save a copy in Drive**\n",
        "   - This creates a copy in YOUR Google Drive\n",
        "   - This copy will be editable by participants\n",
        "\n",
        "**2. Name it:**\n",
        "   - `JupyterCon_2025_Brainstorming_Workshop`\n",
        "\n",
        "**3. Click Share (top right)**\n",
        "   - Change to: **\"Anyone with the link\"**\n",
        "   - Permission: **\"Editor\"** (not Viewer!)\n",
        "   - Copy this link - **THIS is the link participants will use!**\n",
        "\n",
        "The link will look like:\n",
        "```\n",
        "https://colab.research.google.com/drive/[long-random-string]"
      ],
      "metadata": {
        "id": "rFCEaIYj9FBD"
      }
    }
  ]
}